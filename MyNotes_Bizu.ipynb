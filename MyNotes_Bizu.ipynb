{
  "nbformat": 4,
  "nbformat_minor": 0,
  "metadata": {
    "colab": {
      "provenance": [],
      "collapsed_sections": [
        "Ue_f88kCL5kV",
        "MrUuNoSSsJpU",
        "GuYHNDtJr_RV"
      ],
      "toc_visible": true,
      "authorship_tag": "ABX9TyOJJmWo3yExweTNNbrPekg9",
      "include_colab_link": true
    },
    "kernelspec": {
      "name": "python3",
      "display_name": "Python 3"
    },
    "language_info": {
      "name": "python"
    }
  },
  "cells": [
    {
      "cell_type": "markdown",
      "metadata": {
        "id": "view-in-github",
        "colab_type": "text"
      },
      "source": [
        "<a href=\"https://colab.research.google.com/github/tpcorreia/panda/blob/main/MyNotes_Bizu.ipynb\" target=\"_parent\"><img src=\"https://colab.research.google.com/assets/colab-badge.svg\" alt=\"Open In Colab\"/></a>"
      ]
    },
    {
      "cell_type": "markdown",
      "source": [
        "# Arrays"
      ],
      "metadata": {
        "id": "Ue_f88kCL5kV"
      }
    },
    {
      "cell_type": "code",
      "execution_count": null,
      "metadata": {
        "id": "z9IjjA_5I3P1"
      },
      "outputs": [],
      "source": [
        "import numpy as np\n",
        "import pandas as pd\n"
      ]
    },
    {
      "cell_type": "code",
      "source": [
        "# Criar um array 3,3\n",
        "arr33 = np.array([[1, 2, 3], [4, 5, 6], [7, 8, 9]])\n",
        "arr33\n",
        "\n",
        "# Criar um array 7,1\n",
        "arr71 = np.array([1, 2, 3, 5, 6, 7, 9])\n",
        "\n",
        "# Criar um array 1,7\n",
        "arr17 = np.array([[1, 2, 3, 5, 6, 7, 9]])\n"
      ],
      "metadata": {
        "id": "13Meki20JBya"
      },
      "execution_count": null,
      "outputs": []
    },
    {
      "cell_type": "code",
      "source": [
        "# Converter os numpy arrays para Panda DataFrames\n",
        "#my_df33 = pd.DataFrame(arr33, columns=['Primeiro', 'Segundo', 'Terceiro'])\n",
        "print(my_df33)\n",
        "\n",
        "# my_df71 = pd.DataFrame(arr71, columns=['Numeros'])\n",
        "print(my_df71)\n",
        "\n",
        "# my_df17 = pd.DataFrame(arr17, columns=['A','B','C','D','E','F','G'])\n",
        "print(my_df17)"
      ],
      "metadata": {
        "id": "Ur3pTt9KJvne"
      },
      "execution_count": null,
      "outputs": []
    },
    {
      "cell_type": "code",
      "source": [
        "# Matemáticas\n",
        "# del arr\n",
        "arr = np.array([1, 2, 3, 4, 5])\n",
        "\n",
        "# Exemplos de operações\n",
        "arr_squared = np.square(arr)\n",
        "arr_sum = np.sum(arr)\n",
        "arr_mean = np.mean(arr)\n",
        "\n",
        "print(arr_squared)\n",
        "print(arr_sum)\n",
        "print(arr_mean)\n",
        "\n"
      ],
      "metadata": {
        "colab": {
          "base_uri": "https://localhost:8080/"
        },
        "id": "MPgys36LNjSA",
        "outputId": "8e1da278-d897-4533-d5e0-31858b048cbd"
      },
      "execution_count": null,
      "outputs": [
        {
          "output_type": "stream",
          "name": "stdout",
          "text": [
            "[ 1  4  9 16 25]\n",
            "15\n",
            "3.0\n"
          ]
        }
      ]
    },
    {
      "cell_type": "code",
      "source": [
        "np.cos(arr)"
      ],
      "metadata": {
        "colab": {
          "base_uri": "https://localhost:8080/"
        },
        "id": "ismMGTKLOY23",
        "outputId": "563903bf-7f56-497b-de81-7f30045e7990"
      },
      "execution_count": null,
      "outputs": [
        {
          "output_type": "execute_result",
          "data": {
            "text/plain": [
              "array([ 0.54030231, -0.41614684, -0.9899925 , -0.65364362,  0.28366219])"
            ]
          },
          "metadata": {},
          "execution_count": 31
        }
      ]
    },
    {
      "cell_type": "markdown",
      "source": [
        "# Pandas"
      ],
      "metadata": {
        "id": "pltgFy2NtmOW"
      }
    },
    {
      "cell_type": "markdown",
      "source": [
        "Creating Dataframes from CSV files.\n",
        "\n",
        "Upload your file to colab\n",
        "Then we need to read the file using\n",
        "\n"
      ],
      "metadata": {
        "id": "wJF4ClTptzx5"
      }
    },
    {
      "cell_type": "code",
      "source": [
        "import pandas as pd\n",
        "import numpy as np\n",
        "Apple = pd.read_csv(\"AAPL Historical Data.csv\")\n",
        "Apple"
      ],
      "metadata": {
        "id": "Zu1FEjPwtuST"
      },
      "execution_count": null,
      "outputs": []
    },
    {
      "cell_type": "markdown",
      "source": [
        "Creating a CSV from the DataFrame\n"
      ],
      "metadata": {
        "id": "OgpUeYer52-M"
      }
    },
    {
      "cell_type": "code",
      "source": [
        "#First we creat a DataFrame, in this case, the top 40 highest values in Price\n",
        "Apple_top_40High_Price = Apple.sort_values(by='Price', ascending=False).head(40)\n"
      ],
      "metadata": {
        "id": "HKPLOPMj56r3"
      },
      "execution_count": null,
      "outputs": []
    },
    {
      "cell_type": "code",
      "source": [
        "#Now, we want to write this df to a CVS file\n",
        "Apple_top_40High_Price.to_csv(\"40High.csv\", sep=',', index=True, encoding='utf-8')"
      ],
      "metadata": {
        "id": "Jcq-YrG169-Z"
      },
      "execution_count": null,
      "outputs": []
    },
    {
      "cell_type": "markdown",
      "source": [
        "Now, we have a Dataframe called Apple\n",
        "Lets play with this table and show some functions.\n",
        "\n",
        "  SORTING:"
      ],
      "metadata": {
        "id": "p2wcXRX1v_2U"
      }
    },
    {
      "cell_type": "code",
      "source": [
        "# Sorting by using a column name\n",
        "#Apple.sort_values(by=\"Open\")\n",
        "\n",
        "# Sorting by using a Nth column\n",
        "# Apple.sort_values(by=Apple.columns[6], ascending=False)\n",
        "\n",
        "#Sort by Date\n",
        "#Apple.sort_values(by='Date',ascending=True)\n",
        "#Apple.dtypes\n",
        "##We need to convert Object to Datetime format\n",
        "Apple['Date'] = Apple.to_"
      ],
      "metadata": {
        "colab": {
          "base_uri": "https://localhost:8080/"
        },
        "id": "zL7dPucMv96j",
        "outputId": "c71ae59d-6a4b-46e6-d834-ab8fa4945488"
      },
      "execution_count": null,
      "outputs": [
        {
          "output_type": "execute_result",
          "data": {
            "text/plain": [
              "Date         object\n",
              "Price       float64\n",
              "Open        float64\n",
              "High        float64\n",
              "Low         float64\n",
              "Vol.         object\n",
              "Change %    float64\n",
              "dtype: object"
            ]
          },
          "metadata": {},
          "execution_count": 52
        }
      ]
    },
    {
      "cell_type": "markdown",
      "source": [
        "DataType"
      ],
      "metadata": {
        "id": "d5zWh76AyfQN"
      }
    },
    {
      "cell_type": "markdown",
      "source": [
        "\n",
        "\n",
        "```\n",
        "# This is formatted as code\n",
        "```\n",
        "\n",
        "          Change DataType"
      ],
      "metadata": {
        "id": "RB7ibxTiynqb"
      }
    },
    {
      "cell_type": "code",
      "source": [
        "# To convert the column 'Change %' to float.\n",
        "Apple['Change %'] = Apple['Change %'].str.rstrip('%').astype('float') / 100.0\n",
        "Apple['Change %'] = Apple['Change %'] * 100.0\n",
        "Apple.sort_values(by='Change %', ascending=True)"
      ],
      "metadata": {
        "id": "sHopBFxpyUC9"
      },
      "execution_count": null,
      "outputs": []
    },
    {
      "cell_type": "markdown",
      "source": [
        "Exercises Panda - [link text](C:\\Users\\ecorthi\\Documents\\Master IA 23_24\\Asignaturas\\SM142002 - Programación y entorno de trabajo para la IA\\Panda\\1700311567128.pdf)"
      ],
      "metadata": {
        "id": "8HBxsQvO1-rx"
      }
    },
    {
      "cell_type": "markdown",
      "source": [],
      "metadata": {
        "id": "EGj6KNrA2RSB"
      }
    },
    {
      "cell_type": "code",
      "source": [
        "import pandas as pd\n",
        "import matplotlib.pyplot as plt\n"
      ],
      "metadata": {
        "id": "mySUsScI0ob2"
      },
      "execution_count": null,
      "outputs": []
    },
    {
      "cell_type": "code",
      "source": [
        "#Apple['Price']\n",
        "#Apple['Open']\n",
        "#Apple[['Date', 'Open']]\n",
        "Apple[\"Open\"]"
      ],
      "metadata": {
        "id": "qYVyKOlS0_FQ"
      },
      "execution_count": null,
      "outputs": []
    },
    {
      "cell_type": "code",
      "source": [
        ")"
      ],
      "metadata": {
        "id": "4web-AqA2T2e"
      },
      "execution_count": null,
      "outputs": []
    },
    {
      "cell_type": "markdown",
      "source": [
        "#General Notes"
      ],
      "metadata": {
        "id": "rb2F_dMAphYS"
      }
    },
    {
      "cell_type": "markdown",
      "source": [
        "##Plotting charts"
      ],
      "metadata": {
        "id": "GXgL-E9Bk8gY"
      }
    },
    {
      "cell_type": "markdown",
      "source": [
        "#####Plotting multiple charts in one figure."
      ],
      "metadata": {
        "id": "MrUuNoSSsJpU"
      }
    },
    {
      "cell_type": "code",
      "source": [
        "import matplotlib.pyplot as plt\n",
        "import numpy as np\n",
        "#create our data\n",
        "# Set the random seed for reproducibility (optional)\n",
        "np.random.seed(42)\n",
        "###################################################################################################\n",
        "# Generate a random list of 300 values in the range from -6 to 6\n",
        "data1 = np.random.uniform(-6, 6, 300)\n",
        "# Generate a random list of 500 values in the range from -10 to 10\n",
        "data2 = np.random.uniform(-10, 10, 500)\n",
        "###################################################################################################\n",
        "# Generate data for a normal distribution with mean 0 and standard deviation 1\n",
        "mean = 0\n",
        "std_dev = 1\n",
        "sample_size = 300\n",
        "\n",
        "# Generate random values\n",
        "data3 = np.random.normal(mean, std_dev, sample_size)\n",
        "###################################################################################################\n",
        "\n",
        "# Create figure and axis (ax)\n",
        "fig, ax = plt.subplots(1,3, figsize=(10,5))\n",
        "\n",
        "# Create a histogram using the ax object\n",
        "ax[0].hist(data1, bins=30, edgecolor='black', color='blue', alpha=0.7)\n",
        "ax[1].hist(data2, bins=30, edgecolor='black', color='red', alpha=0.7)\n",
        "ax[2].hist(data3, bins=30, edgecolor='black', color='orange', alpha=0.7)\n",
        "\n",
        "# Customize the plot\n",
        "ax[0].set_title('Histogram  Data1')\n",
        "ax[0].set_xlabel('Values')\n",
        "ax[0].set_ylabel('Frequency')\n",
        "\n",
        "ax[1].set_title('Histogram  Data2')\n",
        "ax[1].set_xlabel('Values')\n",
        "ax[1].set_ylabel('Frequency')\n",
        "\n",
        "ax[2].set_title('Histogram  Data3')\n",
        "ax[2].set_xlabel('Values')\n",
        "ax[2].set_ylabel('Frequency')\n",
        "\n",
        "# Adjust layout to prevent clipping of titles\n",
        "plt.tight_layout()\n",
        "\n",
        "# Show the plot\n",
        "plt.show()\n"
      ],
      "metadata": {
        "colab": {
          "base_uri": "https://localhost:8080/",
          "height": 425
        },
        "id": "UXxPJqdHsERy",
        "outputId": "344dfb42-93fb-46cf-9111-899d4462ce6b"
      },
      "execution_count": null,
      "outputs": [
        {
          "output_type": "display_data",
          "data": {
            "text/plain": [
              "<Figure size 1000x500 with 3 Axes>"
            ],
            "image/png": "[encoded data removed]"
          },
          "metadata": {}
        }
      ]
    },
    {
      "cell_type": "markdown",
      "source": [
        "#####Plotting multiple series in one chart."
      ],
      "metadata": {
        "id": "GuYHNDtJr_RV"
      }
    },
    {
      "cell_type": "code",
      "source": [
        "import matplotlib.pyplot as plt\n",
        "import numpy as np\n",
        "#create our data\n",
        "# Set the random seed for reproducibility (optional)\n",
        "np.random.seed(42)\n",
        "\n",
        "# Generate a random list of 300 values in the range from -6 to 6\n",
        "data1 = np.random.uniform(-6, 6, 30)\n",
        "# Generate a random list of 500 values in the range from -10 to 10\n",
        "data2 = np.random.uniform(-10, 10, 500)\n",
        "\n",
        "\n",
        "# Create figure and axis (ax)\n",
        "fig, ax = plt.subplots()\n",
        "\n",
        "# Create a histogram using the ax object\n",
        "ax.plot(data1, color='blue', alpha=0.7, label='Data1')\n",
        "ax.hist(data2, bins=30, edgecolor='black', color='red', alpha=0.7, label='Data2')\n",
        "\n",
        "# Customize the plot\n",
        "ax.set_title('Histogram Example Data1 and Data2')\n",
        "ax.set_xlabel('Values')\n",
        "ax.set_ylabel('Frequency')\n",
        "\n",
        "# Show legend\n",
        "ax.legend()\n",
        "\n",
        "\n",
        "# Show the plot\n",
        "plt.show()\n"
      ],
      "metadata": {
        "colab": {
          "base_uri": "https://localhost:8080/",
          "height": 472
        },
        "id": "YeBG43CXpxji",
        "outputId": "a8d281eb-8736-4966-d373-8c977008ffc7"
      },
      "execution_count": null,
      "outputs": [
        {
          "output_type": "display_data",
          "data": {
            "text/plain": [
              "<Figure size 640x480 with 1 Axes>"
            ],
            "image/png": "[encoded data removed]"
          },
          "metadata": {}
        }
      ]
    },
    {
      "cell_type": "markdown",
      "source": [
        "##Download and read file from github"
      ],
      "metadata": {
        "id": "TnbbUbBfkli5"
      }
    },
    {
      "cell_type": "code",
      "source": [
        "#Option 1: If you want to read directly from the github repository\n",
        "#CSV FILE\n",
        "url = 'https://raw.githubusercontent.com/tpcorreia/Master_AI_2023_UAX/ff409873b9471e3318a18e9ca739922cf6b08f61/DIS_Historical_Data.csv?token=GHSAT0AAAAAACLFQSGMZUYNHEKWTZ27GAMCZLWDLKQ'\n",
        "dis = pd.read_csv(url, index_col=0, parse_dates=True)\n",
        "print(dis)\n",
        "print(\"\\n\\n\\nDataset is now stored in a Pandas Dataframe called dis\")\n",
        "\n",
        "\n",
        "#XLSX FILE\n",
        "import pandas as pd\n",
        "url = 'https://github.com/tpcorreia/Master_AI_2023_UAX/raw/EDA-Training/CarCrashDataset.xlsx'\n",
        "# Create an ExcelFile object\n",
        "xls = pd.ExcelFile(url)\n",
        "# Load the specific sheet from the Excel file\n",
        "data = pd.read_excel(xls)\n",
        "# Print the data\n",
        "print(data)\n",
        "# Additional information about the DataFrame\n",
        "data.info()\n"
      ],
      "metadata": {
        "id": "r3u2n2N6kuG4"
      },
      "execution_count": null,
      "outputs": []
    },
    {
      "cell_type": "code",
      "source": [
        "#Option 2: #If you want to read directly from the file stored in the google colab Runtime environment.\n",
        "#To download the CSV file to google colab.\n",
        "!wget https://raw.githubusercontent.com/tpcorreia/Master_AI_2023_UAX/main/DIS_Historical_Data.csv -O sample_data/Disney.csv\n",
        "dis = pd.read_csv('sample_data/Disney.csv', index_col=0, parse_dates=True)\n",
        "print(dis)\n",
        "\n",
        "# Dataset is now stored in a Pandas Dataframe called dis"
      ],
      "metadata": {
        "id": "sYxJtG9XkvGy"
      },
      "execution_count": null,
      "outputs": []
    },
    {
      "cell_type": "markdown",
      "source": [
        "#Bizu alunos Master"
      ],
      "metadata": {
        "id": "J3W2AqZsOGIv"
      }
    },
    {
      "cell_type": "code",
      "source": [
        "# SCIPY\n",
        "stats.gaussian_kde(data) => generate a gaussian kernel density estimation model for the data because it is good for continuous data\n",
        "cdf = np.cumsum(pdf) / np.sum(pdf) => normalize the pdf to get the cdf\n",
        "stats.norm.pdf => genera la pdf para distribuciones normales\n",
        "stats.norm.cdf => genera la cdf para distribuciones normales\n",
        "stats.shapiro => hace el test de shapiro-whilks para averiguar si sigue la distribucion normal, si p<0.05 no sigue esta distribución\n",
        "print(f\"Microsoft Shapiro-Wilk Test:\\nStatistic: {shapiro_stat}, P-value: {shapiro_p}\")\n",
        "\n",
        "# SCIKIT-LEARN\n",
        "train_test_split(df_numeric, test_size=0.2, shuffle=False) => divide el array o dataset en 2 partes shuffle = FALSE para que no barajee los datos y mantener el orden\n",
        "from sklearn.linear_model import LinearRegression => model = LinearRegression() => Crea un LinearRegression model\n",
        "model.fit(predictor_variables, variable_to_predict) => Let the model train and learn from the variables\n",
        "from sklearn.ensemble import RandomForestRegressor => model = RandomForestRegressor() => Crea un  Random Forest model\n",
        "\n",
        "# Tensorflow\n",
        "input_dim => number of caracteristics that the model is waiting\n",
        "taking shape[1]  will obtain the number of columns from the x_train dataset\n",
        "model_neuronal_network = Sequential() # neuronal network secuencial\n",
        "model_neuronal_network.add(Dense(64, input_dim=X_train.shape[1], activation='relu'))  # Entry Layer\n",
        "model_neuronal_network.add(Dense(32, activation='relu'))  # Hidden layer\n",
        "model_neuronal_network.add(Dense(32, activation='relu'))  # Hidden layer\n",
        "model_neuronal_network.add(Dense(1))  # Output layer\n",
        "\n",
        "\n",
        "# NUMPY\n",
        "np.arange(20) => crear matriz con valores del 0 al 20\n",
        "np.arange(8, 24, 4) => matriz con valores del 8 al 24 de 4 en 4 (se pueden usar floats (0.1 ...)\n",
        "reshape(4, 5) => de 4 filas y 5 columnas\n",
        "matrix.shape => devuelve el numero de columnas y filas\n",
        "matrix.ndim => numero de dimensiones\n",
        "matrix.dtype.name => tipo de los elementos\n",
        "matrix.itemsize => ??\n",
        "matrix.size => cantidad de elementos\n",
        "np.linspace(0, 5, 10) => dame 10 valores equidistantes entre 0 y 5\n",
        "x = np.linspace(0, 2 * pi, 200) => dame 200 valores entre 0 y 2* pi\n",
        "np.sin(x) => función del seno cogiendo esos 200 valores\n",
        "threedarray * threedarray2 => multiplicación elemento a elemento de los array\n",
        "threedarray @ threedarray2 => multiplicación matricial (filas por columnas)\n",
        "correlation = df_numeric.corr() => Correlación de Pearson\n",
        "\n",
        "\n",
        "\n",
        "# MATPLOT\n",
        "plt.plot(x, function, label='sin(x)') => plot usando x, function y el label para la leyenda\n",
        "plt.hist(x, function, label='sin(x)') => histograma usando x, function y el label para la leyenda\n",
        "plt.title(\"Price evolution ...\") => Crea el titulo del plot\n",
        "plt.xlabel(\"Date\") => Titulo del eje X\n",
        "plt.ylabel(\"Price\") => Titulo del eje y\n",
        "plt.grid(True) => añade cuadricula al plot\n",
        "plt.legend() => añade la leyenda\n",
        "plt.show => muestra el plot\n",
        "\n",
        "para crear varios plots en 1 solo:\n",
        "\n",
        "fig, axes = plt.subplots(nrows=1, ncols=2, figsize=(15, 5)) => plot with 2 subplots, 1 fila 2 columnas...\n",
        "axes[1].hist(df['Change float'], bins=30,alpha=0.7, color='green', edgecolor='black', label=\"MSFT Change %\") => :\n",
        " - alpha => opacidad\n",
        " - bins => dividir en 30 intervalos iguales los datos\n",
        " - color => color de las cajas\n",
        " - edgecolor => bordes de las cajas\n",
        " - label => nombre para la leyenda (si se muestra)\n",
        "\n",
        "# Formatatear la leyenda del eje x para que muestre pi en vez de el numero\n",
        "def format_func(value, tick_number):\n",
        "    #N = int(np.round(value / pi))\n",
        "    N = (value / pi)\n",
        "    if N == 0:\n",
        "        return \"0\"\n",
        "    elif N == 1:\n",
        "        return r\"$\\pi$\"\n",
        "    elif N == -1:\n",
        "        return r\"-$\\pi$\"\n",
        "    else:\n",
        "        return f\"${N}\\pi$\"\n",
        "\n",
        "plt.gca().xaxis.set_major_formatter(FuncFormatter(format_func))\n",
        "\n",
        "\n"
      ],
      "metadata": {
        "id": "v1ly_5xyOKcu"
      },
      "execution_count": null,
      "outputs": []
    },
    {
      "cell_type": "markdown",
      "source": [
        "#Thiago Notes"
      ],
      "metadata": {
        "id": "QOsfr4cRj7MB"
      }
    },
    {
      "cell_type": "markdown",
      "source": [
        "##Load data into a panda DF, create and plot histograms"
      ],
      "metadata": {
        "id": "KYrQTtjHjY1o"
      }
    },
    {
      "cell_type": "code",
      "source": [
        "import pandas as pd\n",
        "import matplotlib.pyplot as plt\n",
        "\n",
        "# Load data from CSV file\n",
        "file_path = 'DIS_Historical_Data.csv'  # Make sure to upload the file to Google Colab\n",
        "data = pd.read_csv(file_path)\n",
        "\n",
        "# Convert the 'Vol.' column from string to float and remove 'M'\n",
        "data['Vol.'] = data['Vol.'].str.replace('M', '').astype(float)\n",
        "\n",
        "# Convert the 'Change %' column to float and remove '%'\n",
        "data['Change %'] = data['Change %'].str.replace('%', '').astype(float)\n",
        "\n",
        "# Calculate the mean of volume and percentage change\n",
        "mean_volume = data['Vol.'].mean()\n",
        "mean_change = data['Change %'].mean()\n",
        "\n",
        "# Histogram of Daily Trading Volume with mean line\n",
        "plt.figure(figsize=(10, 6))\n",
        "plt.hist(data['Vol.'], bins=100, color='blue', edgecolor='black')\n",
        "plt.axvline(mean_volume, color='red', linestyle='dashed', linewidth=1, label=f'Mean: {mean_volume:.2f}')\n",
        "plt.title('Histogram of Daily Trading Volume')\n",
        "plt.xlabel('Volume (millions)')\n",
        "plt.ylabel('Frequency')\n",
        "plt.legend()\n",
        "plt.grid(True)\n",
        "plt.savefig('histogram_volume.png')\n",
        "plt.show()\n",
        "\n",
        "# Histogram of Daily Percentage Change with mean line\n",
        "plt.figure(figsize=(10, 6))\n",
        "plt.hist(data['Change %'], bins=100, color='green', edgecolor='black')\n",
        "plt.axvline(mean_change, color='red', linestyle='dashed', linewidth=1, label=f'Mean: {mean_change:.2f}%')\n",
        "plt.title('Histogram of Daily Percentage Change')\n",
        "plt.xlabel('Change (%)')\n",
        "plt.ylabel('Frequency')\n",
        "plt.legend()\n",
        "plt.grid(True)\n",
        "plt.savefig('histogram_percentage_change.png')\n",
        "plt.show()\n"
      ],
      "metadata": {
        "id": "RzY7lcsojmAf"
      },
      "execution_count": null,
      "outputs": []
    }
  ]
}